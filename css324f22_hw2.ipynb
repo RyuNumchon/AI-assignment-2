{
  "cells": [
    {
      "cell_type": "markdown",
      "metadata": {
        "id": "1co9QUId36Eo"
      },
      "source": [
        "# CSS324 Homework Assignment 2\n",
        "\n",
        "CIFAR10 is a small image classification dataset. Its objective is to classification an 32x32 color image into 10 classes.\n",
        "\n",
        "See https://www.cs.toronto.edu/~kriz/cifar.html and https://keras.io/api/datasets/cifar10/ for more details."
      ]
    },
    {
      "cell_type": "code",
      "execution_count": 1,
      "metadata": {
        "id": "3zXtrgRH9oK5"
      },
      "outputs": [],
      "source": [
        "import tensorflow as tf\n",
        "import matplotlib.pyplot as plt\n",
        "import numpy as np"
      ]
    },
    {
      "cell_type": "code",
      "execution_count": 2,
      "metadata": {
        "id": "ZMSl6MYp33eW",
        "colab": {
          "base_uri": "https://localhost:8080/"
        },
        "outputId": "25ba71d0-3b29-4efd-e403-8d9939416b86"
      },
      "outputs": [
        {
          "output_type": "stream",
          "name": "stdout",
          "text": [
            "Downloading data from https://www.cs.toronto.edu/~kriz/cifar-10-python.tar.gz\n",
            "170498071/170498071 [==============================] - 14s 0us/step\n"
          ]
        }
      ],
      "source": [
        "# Load CIFAR10 dataset\n",
        "(x, y), (x_test, y_test) = tf.keras.datasets.cifar10.load_data()\n",
        "y, y_test = y.flatten(), y_test.flatten()\n",
        "x = x / 255\n",
        "x_test = x_test / 255"
      ]
    },
    {
      "cell_type": "code",
      "source": [
        "print(x[0])"
      ],
      "metadata": {
        "colab": {
          "base_uri": "https://localhost:8080/"
        },
        "id": "pEnBAmAHojCQ",
        "outputId": "1cc54d3a-2c75-4a64-af85-87d423547f3c"
      },
      "execution_count": null,
      "outputs": [
        {
          "output_type": "stream",
          "name": "stdout",
          "text": [
            "[[[0.23137255 0.24313725 0.24705882]\n",
            "  [0.16862745 0.18039216 0.17647059]\n",
            "  [0.19607843 0.18823529 0.16862745]\n",
            "  ...\n",
            "  [0.61960784 0.51764706 0.42352941]\n",
            "  [0.59607843 0.49019608 0.4       ]\n",
            "  [0.58039216 0.48627451 0.40392157]]\n",
            "\n",
            " [[0.0627451  0.07843137 0.07843137]\n",
            "  [0.         0.         0.        ]\n",
            "  [0.07058824 0.03137255 0.        ]\n",
            "  ...\n",
            "  [0.48235294 0.34509804 0.21568627]\n",
            "  [0.46666667 0.3254902  0.19607843]\n",
            "  [0.47843137 0.34117647 0.22352941]]\n",
            "\n",
            " [[0.09803922 0.09411765 0.08235294]\n",
            "  [0.0627451  0.02745098 0.        ]\n",
            "  [0.19215686 0.10588235 0.03137255]\n",
            "  ...\n",
            "  [0.4627451  0.32941176 0.19607843]\n",
            "  [0.47058824 0.32941176 0.19607843]\n",
            "  [0.42745098 0.28627451 0.16470588]]\n",
            "\n",
            " ...\n",
            "\n",
            " [[0.81568627 0.66666667 0.37647059]\n",
            "  [0.78823529 0.6        0.13333333]\n",
            "  [0.77647059 0.63137255 0.10196078]\n",
            "  ...\n",
            "  [0.62745098 0.52156863 0.2745098 ]\n",
            "  [0.21960784 0.12156863 0.02745098]\n",
            "  [0.20784314 0.13333333 0.07843137]]\n",
            "\n",
            " [[0.70588235 0.54509804 0.37647059]\n",
            "  [0.67843137 0.48235294 0.16470588]\n",
            "  [0.72941176 0.56470588 0.11764706]\n",
            "  ...\n",
            "  [0.72156863 0.58039216 0.36862745]\n",
            "  [0.38039216 0.24313725 0.13333333]\n",
            "  [0.3254902  0.20784314 0.13333333]]\n",
            "\n",
            " [[0.69411765 0.56470588 0.45490196]\n",
            "  [0.65882353 0.50588235 0.36862745]\n",
            "  [0.70196078 0.55686275 0.34117647]\n",
            "  ...\n",
            "  [0.84705882 0.72156863 0.54901961]\n",
            "  [0.59215686 0.4627451  0.32941176]\n",
            "  [0.48235294 0.36078431 0.28235294]]]\n"
          ]
        }
      ]
    },
    {
      "cell_type": "code",
      "execution_count": null,
      "metadata": {
        "colab": {
          "base_uri": "https://localhost:8080/",
          "height": 283
        },
        "id": "Vwoz3JDK98Jy",
        "outputId": "63976160-24ca-4965-85c1-25ce3018fd14"
      },
      "outputs": [
        {
          "output_type": "display_data",
          "data": {
            "text/plain": [
              "<Figure size 432x288 with 1 Axes>"
            ],
            "image/png": "[encoded data removed]"
          },
          "metadata": {
            "needs_background": "light"
          }
        },
        {
          "output_type": "stream",
          "name": "stdout",
          "text": [
            "Class= 7\n"
          ]
        }
      ],
      "source": [
        "# Plot a training example\n",
        "plt.imshow(x[11, :, :, :])\n",
        "plt.show()\n",
        "print(f\"Class= {y[11]}\")        # 7 = horse"
      ]
    },
    {
      "cell_type": "code",
      "execution_count": null,
      "metadata": {
        "colab": {
          "base_uri": "https://localhost:8080/"
        },
        "id": "0U-8StsbXuxS",
        "outputId": "c0b6167f-d1ef-45e2-fff0-2ddc5a6424d8"
      },
      "outputs": [
        {
          "output_type": "stream",
          "name": "stdout",
          "text": [
            "Shape of the datasets\n",
            "Training set   = (40000, 32, 32, 3) (40000,)\n",
            "Validation set = (10000, 32, 32, 3) (10000,)\n",
            "Test set       = (10000, 32, 32, 3) (10000,)\n"
          ]
        }
      ],
      "source": [
        "# Split the training set\n",
        "from sklearn.model_selection import train_test_split\n",
        "\n",
        "X_train, X_valid, y_train, y_valid = train_test_split(x, y, test_size=0.2, random_state=11)\n",
        "X_test = x_test\n",
        "\n",
        "print(\"Shape of the datasets\")\n",
        "print(\"Training set   =\", X_train.shape, y_train.shape)\n",
        "print(\"Validation set =\", X_valid.shape, y_valid.shape)\n",
        "print(\"Test set       =\", X_test.shape, y_test.shape)"
      ]
    },
    {
      "cell_type": "code",
      "execution_count": null,
      "metadata": {
        "id": "qXcpd8nSXuxS"
      },
      "outputs": [],
      "source": [
        "# Use one-hot encoding for y\n",
        "Y_train = tf.one_hot(y_train, 10)\n",
        "Y_valid = tf.one_hot(y_valid, 10)\n",
        "Y_test = tf.one_hot(y_test, 10)"
      ]
    },
    {
      "cell_type": "code",
      "source": [
        "print(X_train[0].shape) # checking shape of the first image in training set"
      ],
      "metadata": {
        "colab": {
          "base_uri": "https://localhost:8080/"
        },
        "id": "4rs8REFeZMSN",
        "outputId": "c0df5bf3-57dc-459f-f1e9-1d283ae1a12a"
      },
      "execution_count": null,
      "outputs": [
        {
          "output_type": "stream",
          "name": "stdout",
          "text": [
            "(32, 32, 3)\n"
          ]
        }
      ]
    },
    {
      "cell_type": "markdown",
      "metadata": {
        "id": "lFt4OqeP_Buc"
      },
      "source": [
        "## Question 1\n",
        "\n",
        "Construct a deep neural network to classify images in the CIFAR10 dataset. You can choose the numbers of hidden nodes, appropriate activation functions, regularizers, or the structure of the network. \n",
        "\n",
        "After the training process, print the training, validation, and test accuracies, as well as plot the training loss and validation loss.\n",
        "\n",
        "**Contraints**\n",
        " - You are not allowed to use Convolution operations.\n",
        " - The number of Dense layers must be less than or equal to 4.\n",
        " - The number of training epochs must be set to 100.\n",
        " - Your model must achieve the test accuracy of at least 50%."
      ]
    },
    {
      "cell_type": "code",
      "execution_count": null,
      "metadata": {
        "id": "kpuD33bU__mt",
        "colab": {
          "base_uri": "https://localhost:8080/"
        },
        "outputId": "afff1e22-2a60-4587-d7fe-5a8d51c4f171"
      },
      "outputs": [
        {
          "output_type": "stream",
          "name": "stdout",
          "text": [
            "Model: \"sequential\"\n",
            "_________________________________________________________________\n",
            " Layer (type)                Output Shape              Param #   \n",
            "=================================================================\n",
            " flatten (Flatten)           (None, 3072)              0         \n",
            "                                                                 \n",
            " dense (Dense)               (None, 256)               786688    \n",
            "                                                                 \n",
            " dense_1 (Dense)             (None, 128)               32896     \n",
            "                                                                 \n",
            " dense_2 (Dense)             (None, 128)               16512     \n",
            "                                                                 \n",
            " dense_3 (Dense)             (None, 10)                1290      \n",
            "                                                                 \n",
            "=================================================================\n",
            "Total params: 837,386\n",
            "Trainable params: 837,386\n",
            "Non-trainable params: 0\n",
            "_________________________________________________________________\n",
            "Epoch 1/100\n",
            "10/10 [==============================] - 3s 82ms/step - loss: 2.2227 - accuracy: 0.1888 - val_loss: 2.0846 - val_accuracy: 0.2667\n",
            "Epoch 2/100\n",
            "10/10 [==============================] - 0s 43ms/step - loss: 2.0124 - accuracy: 0.2817 - val_loss: 1.9486 - val_accuracy: 0.3008\n",
            "Epoch 3/100\n",
            "10/10 [==============================] - 0s 42ms/step - loss: 1.9093 - accuracy: 0.3202 - val_loss: 1.8824 - val_accuracy: 0.3344\n",
            "Epoch 4/100\n",
            "10/10 [==============================] - 0s 42ms/step - loss: 1.8534 - accuracy: 0.3444 - val_loss: 1.8457 - val_accuracy: 0.3491\n",
            "Epoch 5/100\n",
            "10/10 [==============================] - 0s 42ms/step - loss: 1.8182 - accuracy: 0.3559 - val_loss: 1.8033 - val_accuracy: 0.3643\n",
            "Epoch 6/100\n",
            "10/10 [==============================] - 0s 42ms/step - loss: 1.7846 - accuracy: 0.3710 - val_loss: 1.7808 - val_accuracy: 0.3728\n",
            "Epoch 7/100\n",
            "10/10 [==============================] - 0s 42ms/step - loss: 1.7537 - accuracy: 0.3805 - val_loss: 1.7552 - val_accuracy: 0.3825\n",
            "Epoch 8/100\n",
            "10/10 [==============================] - 0s 43ms/step - loss: 1.7298 - accuracy: 0.3905 - val_loss: 1.7342 - val_accuracy: 0.3874\n",
            "Epoch 9/100\n",
            "10/10 [==============================] - 0s 43ms/step - loss: 1.7059 - accuracy: 0.3973 - val_loss: 1.7099 - val_accuracy: 0.3955\n",
            "Epoch 10/100\n",
            "10/10 [==============================] - 0s 42ms/step - loss: 1.6874 - accuracy: 0.4058 - val_loss: 1.6974 - val_accuracy: 0.4073\n",
            "Epoch 11/100\n",
            "10/10 [==============================] - 0s 41ms/step - loss: 1.6724 - accuracy: 0.4103 - val_loss: 1.6844 - val_accuracy: 0.4019\n",
            "Epoch 12/100\n",
            "10/10 [==============================] - 0s 41ms/step - loss: 1.6495 - accuracy: 0.4215 - val_loss: 1.6579 - val_accuracy: 0.4194\n",
            "Epoch 13/100\n",
            "10/10 [==============================] - 0s 41ms/step - loss: 1.6305 - accuracy: 0.4277 - val_loss: 1.6478 - val_accuracy: 0.4269\n",
            "Epoch 14/100\n",
            "10/10 [==============================] - 0s 43ms/step - loss: 1.6159 - accuracy: 0.4324 - val_loss: 1.6363 - val_accuracy: 0.4274\n",
            "Epoch 15/100\n",
            "10/10 [==============================] - 0s 42ms/step - loss: 1.6014 - accuracy: 0.4380 - val_loss: 1.6205 - val_accuracy: 0.4341\n",
            "Epoch 16/100\n",
            "10/10 [==============================] - 0s 49ms/step - loss: 1.5880 - accuracy: 0.4431 - val_loss: 1.6138 - val_accuracy: 0.4347\n",
            "Epoch 17/100\n",
            "10/10 [==============================] - 0s 42ms/step - loss: 1.5787 - accuracy: 0.4441 - val_loss: 1.6108 - val_accuracy: 0.4334\n",
            "Epoch 18/100\n",
            "10/10 [==============================] - 0s 41ms/step - loss: 1.5710 - accuracy: 0.4482 - val_loss: 1.5923 - val_accuracy: 0.4439\n",
            "Epoch 19/100\n",
            "10/10 [==============================] - 0s 42ms/step - loss: 1.5532 - accuracy: 0.4539 - val_loss: 1.5832 - val_accuracy: 0.4446\n",
            "Epoch 20/100\n",
            "10/10 [==============================] - 0s 41ms/step - loss: 1.5400 - accuracy: 0.4614 - val_loss: 1.5713 - val_accuracy: 0.4525\n",
            "Epoch 21/100\n",
            "10/10 [==============================] - 0s 41ms/step - loss: 1.5297 - accuracy: 0.4637 - val_loss: 1.5684 - val_accuracy: 0.4511\n",
            "Epoch 22/100\n",
            "10/10 [==============================] - 0s 41ms/step - loss: 1.5167 - accuracy: 0.4694 - val_loss: 1.5565 - val_accuracy: 0.4563\n",
            "Epoch 23/100\n",
            "10/10 [==============================] - 0s 41ms/step - loss: 1.5111 - accuracy: 0.4702 - val_loss: 1.5502 - val_accuracy: 0.4591\n",
            "Epoch 24/100\n",
            "10/10 [==============================] - 0s 44ms/step - loss: 1.5034 - accuracy: 0.4735 - val_loss: 1.5494 - val_accuracy: 0.4553\n",
            "Epoch 25/100\n",
            "10/10 [==============================] - 0s 40ms/step - loss: 1.5020 - accuracy: 0.4721 - val_loss: 1.5419 - val_accuracy: 0.4621\n",
            "Epoch 26/100\n",
            "10/10 [==============================] - 0s 43ms/step - loss: 1.4891 - accuracy: 0.4790 - val_loss: 1.5494 - val_accuracy: 0.4570\n",
            "Epoch 27/100\n",
            "10/10 [==============================] - 0s 42ms/step - loss: 1.4878 - accuracy: 0.4784 - val_loss: 1.5360 - val_accuracy: 0.4640\n",
            "Epoch 28/100\n",
            "10/10 [==============================] - 0s 42ms/step - loss: 1.4784 - accuracy: 0.4809 - val_loss: 1.5345 - val_accuracy: 0.4632\n",
            "Epoch 29/100\n",
            "10/10 [==============================] - 0s 43ms/step - loss: 1.4687 - accuracy: 0.4830 - val_loss: 1.5257 - val_accuracy: 0.4660\n",
            "Epoch 30/100\n",
            "10/10 [==============================] - 0s 41ms/step - loss: 1.4603 - accuracy: 0.4889 - val_loss: 1.5145 - val_accuracy: 0.4695\n",
            "Epoch 31/100\n",
            "10/10 [==============================] - 0s 41ms/step - loss: 1.4534 - accuracy: 0.4886 - val_loss: 1.5062 - val_accuracy: 0.4694\n",
            "Epoch 32/100\n",
            "10/10 [==============================] - 0s 43ms/step - loss: 1.4396 - accuracy: 0.4956 - val_loss: 1.5056 - val_accuracy: 0.4731\n",
            "Epoch 33/100\n",
            "10/10 [==============================] - 0s 44ms/step - loss: 1.4367 - accuracy: 0.4984 - val_loss: 1.5062 - val_accuracy: 0.4707\n",
            "Epoch 34/100\n",
            "10/10 [==============================] - 0s 42ms/step - loss: 1.4265 - accuracy: 0.5015 - val_loss: 1.4867 - val_accuracy: 0.4824\n",
            "Epoch 35/100\n",
            "10/10 [==============================] - 0s 42ms/step - loss: 1.4169 - accuracy: 0.5057 - val_loss: 1.4924 - val_accuracy: 0.4770\n",
            "Epoch 36/100\n",
            "10/10 [==============================] - 0s 41ms/step - loss: 1.4115 - accuracy: 0.5070 - val_loss: 1.4854 - val_accuracy: 0.4769\n",
            "Epoch 37/100\n",
            "10/10 [==============================] - 0s 42ms/step - loss: 1.4054 - accuracy: 0.5071 - val_loss: 1.4863 - val_accuracy: 0.4815\n",
            "Epoch 38/100\n",
            "10/10 [==============================] - 0s 42ms/step - loss: 1.4031 - accuracy: 0.5095 - val_loss: 1.4886 - val_accuracy: 0.4787\n",
            "Epoch 39/100\n",
            "10/10 [==============================] - 0s 42ms/step - loss: 1.4090 - accuracy: 0.5061 - val_loss: 1.4767 - val_accuracy: 0.4829\n",
            "Epoch 40/100\n",
            "10/10 [==============================] - 0s 42ms/step - loss: 1.3990 - accuracy: 0.5117 - val_loss: 1.4769 - val_accuracy: 0.4821\n",
            "Epoch 41/100\n",
            "10/10 [==============================] - 0s 50ms/step - loss: 1.3932 - accuracy: 0.5128 - val_loss: 1.4719 - val_accuracy: 0.4860\n",
            "Epoch 42/100\n",
            "10/10 [==============================] - 0s 42ms/step - loss: 1.3799 - accuracy: 0.5181 - val_loss: 1.4671 - val_accuracy: 0.4889\n",
            "Epoch 43/100\n",
            "10/10 [==============================] - 0s 42ms/step - loss: 1.3674 - accuracy: 0.5230 - val_loss: 1.4573 - val_accuracy: 0.4896\n",
            "Epoch 44/100\n",
            "10/10 [==============================] - 0s 41ms/step - loss: 1.3629 - accuracy: 0.5246 - val_loss: 1.4558 - val_accuracy: 0.4922\n",
            "Epoch 45/100\n",
            "10/10 [==============================] - 0s 41ms/step - loss: 1.3714 - accuracy: 0.5195 - val_loss: 1.4602 - val_accuracy: 0.4845\n",
            "Epoch 46/100\n",
            "10/10 [==============================] - 0s 41ms/step - loss: 1.3703 - accuracy: 0.5239 - val_loss: 1.4618 - val_accuracy: 0.4904\n",
            "Epoch 47/100\n",
            "10/10 [==============================] - 0s 41ms/step - loss: 1.3529 - accuracy: 0.5296 - val_loss: 1.4502 - val_accuracy: 0.4919\n",
            "Epoch 48/100\n",
            "10/10 [==============================] - 0s 42ms/step - loss: 1.3498 - accuracy: 0.5314 - val_loss: 1.4582 - val_accuracy: 0.4887\n",
            "Epoch 49/100\n",
            "10/10 [==============================] - 0s 42ms/step - loss: 1.3398 - accuracy: 0.5343 - val_loss: 1.4445 - val_accuracy: 0.4964\n",
            "Epoch 50/100\n",
            "10/10 [==============================] - 0s 41ms/step - loss: 1.3370 - accuracy: 0.5351 - val_loss: 1.4406 - val_accuracy: 0.4937\n",
            "Epoch 51/100\n",
            "10/10 [==============================] - 0s 41ms/step - loss: 1.3318 - accuracy: 0.5358 - val_loss: 1.4436 - val_accuracy: 0.4947\n",
            "Epoch 52/100\n",
            "10/10 [==============================] - 0s 44ms/step - loss: 1.3274 - accuracy: 0.5365 - val_loss: 1.4486 - val_accuracy: 0.4940\n",
            "Epoch 53/100\n",
            "10/10 [==============================] - 0s 43ms/step - loss: 1.3191 - accuracy: 0.5402 - val_loss: 1.4410 - val_accuracy: 0.4957\n",
            "Epoch 54/100\n",
            "10/10 [==============================] - 0s 42ms/step - loss: 1.3152 - accuracy: 0.5424 - val_loss: 1.4276 - val_accuracy: 0.5001\n",
            "Epoch 55/100\n",
            "10/10 [==============================] - 0s 43ms/step - loss: 1.3090 - accuracy: 0.5455 - val_loss: 1.4268 - val_accuracy: 0.5018\n",
            "Epoch 56/100\n",
            "10/10 [==============================] - 0s 41ms/step - loss: 1.3106 - accuracy: 0.5423 - val_loss: 1.4515 - val_accuracy: 0.4874\n",
            "Epoch 57/100\n",
            "10/10 [==============================] - 0s 42ms/step - loss: 1.3090 - accuracy: 0.5428 - val_loss: 1.4268 - val_accuracy: 0.5022\n",
            "Epoch 58/100\n",
            "10/10 [==============================] - 0s 41ms/step - loss: 1.2988 - accuracy: 0.5495 - val_loss: 1.4331 - val_accuracy: 0.4956\n",
            "Epoch 59/100\n",
            "10/10 [==============================] - 0s 41ms/step - loss: 1.2953 - accuracy: 0.5487 - val_loss: 1.4216 - val_accuracy: 0.5026\n",
            "Epoch 60/100\n",
            "10/10 [==============================] - 0s 42ms/step - loss: 1.2895 - accuracy: 0.5507 - val_loss: 1.4225 - val_accuracy: 0.5003\n",
            "Epoch 61/100\n",
            "10/10 [==============================] - 0s 40ms/step - loss: 1.2876 - accuracy: 0.5528 - val_loss: 1.4294 - val_accuracy: 0.5002\n",
            "Epoch 62/100\n",
            "10/10 [==============================] - 0s 41ms/step - loss: 1.2791 - accuracy: 0.5556 - val_loss: 1.4179 - val_accuracy: 0.4998\n",
            "Epoch 63/100\n",
            "10/10 [==============================] - 0s 40ms/step - loss: 1.2755 - accuracy: 0.5558 - val_loss: 1.4159 - val_accuracy: 0.5032\n",
            "Epoch 64/100\n",
            "10/10 [==============================] - 0s 41ms/step - loss: 1.2706 - accuracy: 0.5571 - val_loss: 1.4234 - val_accuracy: 0.5003\n",
            "Epoch 65/100\n",
            "10/10 [==============================] - 0s 42ms/step - loss: 1.2645 - accuracy: 0.5598 - val_loss: 1.4187 - val_accuracy: 0.4986\n",
            "Epoch 66/100\n",
            "10/10 [==============================] - 0s 42ms/step - loss: 1.2723 - accuracy: 0.5553 - val_loss: 1.4271 - val_accuracy: 0.4990\n",
            "Epoch 67/100\n",
            "10/10 [==============================] - 0s 43ms/step - loss: 1.2640 - accuracy: 0.5593 - val_loss: 1.4156 - val_accuracy: 0.5052\n",
            "Epoch 68/100\n",
            "10/10 [==============================] - 0s 42ms/step - loss: 1.2549 - accuracy: 0.5623 - val_loss: 1.4139 - val_accuracy: 0.5073\n",
            "Epoch 69/100\n",
            "10/10 [==============================] - 0s 42ms/step - loss: 1.2512 - accuracy: 0.5655 - val_loss: 1.4095 - val_accuracy: 0.5042\n",
            "Epoch 70/100\n",
            "10/10 [==============================] - 0s 42ms/step - loss: 1.2449 - accuracy: 0.5682 - val_loss: 1.4079 - val_accuracy: 0.5081\n",
            "Epoch 71/100\n",
            "10/10 [==============================] - 0s 42ms/step - loss: 1.2364 - accuracy: 0.5714 - val_loss: 1.4108 - val_accuracy: 0.5080\n",
            "Epoch 72/100\n",
            "10/10 [==============================] - 0s 42ms/step - loss: 1.2344 - accuracy: 0.5701 - val_loss: 1.4098 - val_accuracy: 0.5074\n",
            "Epoch 73/100\n",
            "10/10 [==============================] - 0s 42ms/step - loss: 1.2373 - accuracy: 0.5695 - val_loss: 1.4017 - val_accuracy: 0.5126\n",
            "Epoch 74/100\n",
            "10/10 [==============================] - 0s 43ms/step - loss: 1.2296 - accuracy: 0.5724 - val_loss: 1.4104 - val_accuracy: 0.5066\n",
            "Epoch 75/100\n",
            "10/10 [==============================] - 0s 41ms/step - loss: 1.2219 - accuracy: 0.5744 - val_loss: 1.4063 - val_accuracy: 0.5045\n",
            "Epoch 76/100\n",
            "10/10 [==============================] - 0s 42ms/step - loss: 1.2241 - accuracy: 0.5717 - val_loss: 1.4097 - val_accuracy: 0.5041\n",
            "Epoch 77/100\n",
            "10/10 [==============================] - 0s 41ms/step - loss: 1.2169 - accuracy: 0.5785 - val_loss: 1.4067 - val_accuracy: 0.5053\n",
            "Epoch 78/100\n",
            "10/10 [==============================] - 0s 42ms/step - loss: 1.2114 - accuracy: 0.5788 - val_loss: 1.4047 - val_accuracy: 0.5086\n",
            "Epoch 79/100\n",
            "10/10 [==============================] - 0s 40ms/step - loss: 1.2097 - accuracy: 0.5802 - val_loss: 1.4073 - val_accuracy: 0.5074\n",
            "Epoch 80/100\n",
            "10/10 [==============================] - 0s 42ms/step - loss: 1.2156 - accuracy: 0.5770 - val_loss: 1.4012 - val_accuracy: 0.5117\n",
            "Epoch 81/100\n",
            "10/10 [==============================] - 0s 42ms/step - loss: 1.2138 - accuracy: 0.5771 - val_loss: 1.4246 - val_accuracy: 0.5040\n",
            "Epoch 82/100\n",
            "10/10 [==============================] - 0s 42ms/step - loss: 1.2152 - accuracy: 0.5766 - val_loss: 1.4158 - val_accuracy: 0.5036\n",
            "Epoch 83/100\n",
            "10/10 [==============================] - 0s 44ms/step - loss: 1.2019 - accuracy: 0.5817 - val_loss: 1.3998 - val_accuracy: 0.5126\n",
            "Epoch 84/100\n",
            "10/10 [==============================] - 0s 44ms/step - loss: 1.1933 - accuracy: 0.5855 - val_loss: 1.3981 - val_accuracy: 0.5118\n",
            "Epoch 85/100\n",
            "10/10 [==============================] - 0s 43ms/step - loss: 1.1889 - accuracy: 0.5872 - val_loss: 1.4106 - val_accuracy: 0.5075\n",
            "Epoch 86/100\n",
            "10/10 [==============================] - 0s 41ms/step - loss: 1.1869 - accuracy: 0.5848 - val_loss: 1.3970 - val_accuracy: 0.5126\n",
            "Epoch 87/100\n",
            "10/10 [==============================] - 0s 43ms/step - loss: 1.1818 - accuracy: 0.5889 - val_loss: 1.3899 - val_accuracy: 0.5155\n",
            "Epoch 88/100\n",
            "10/10 [==============================] - 0s 49ms/step - loss: 1.1792 - accuracy: 0.5901 - val_loss: 1.4121 - val_accuracy: 0.5080\n",
            "Epoch 89/100\n",
            "10/10 [==============================] - 0s 43ms/step - loss: 1.1834 - accuracy: 0.5860 - val_loss: 1.3920 - val_accuracy: 0.5170\n",
            "Epoch 90/100\n",
            "10/10 [==============================] - 0s 42ms/step - loss: 1.1780 - accuracy: 0.5889 - val_loss: 1.3906 - val_accuracy: 0.5152\n",
            "Epoch 91/100\n",
            "10/10 [==============================] - 0s 42ms/step - loss: 1.1751 - accuracy: 0.5913 - val_loss: 1.3969 - val_accuracy: 0.5178\n",
            "Epoch 92/100\n",
            "10/10 [==============================] - 0s 42ms/step - loss: 1.1701 - accuracy: 0.5932 - val_loss: 1.3919 - val_accuracy: 0.5165\n",
            "Epoch 93/100\n",
            "10/10 [==============================] - 0s 42ms/step - loss: 1.1542 - accuracy: 0.5994 - val_loss: 1.3930 - val_accuracy: 0.5171\n",
            "Epoch 94/100\n",
            "10/10 [==============================] - 0s 40ms/step - loss: 1.1585 - accuracy: 0.5981 - val_loss: 1.3923 - val_accuracy: 0.5139\n",
            "Epoch 95/100\n",
            "10/10 [==============================] - 0s 50ms/step - loss: 1.1591 - accuracy: 0.5971 - val_loss: 1.3969 - val_accuracy: 0.5162\n",
            "Epoch 96/100\n",
            "10/10 [==============================] - 0s 41ms/step - loss: 1.1616 - accuracy: 0.5969 - val_loss: 1.3844 - val_accuracy: 0.5209\n",
            "Epoch 97/100\n",
            "10/10 [==============================] - 0s 42ms/step - loss: 1.1516 - accuracy: 0.5976 - val_loss: 1.3944 - val_accuracy: 0.5140\n",
            "Epoch 98/100\n",
            "10/10 [==============================] - 0s 42ms/step - loss: 1.1466 - accuracy: 0.6009 - val_loss: 1.3811 - val_accuracy: 0.5223\n",
            "Epoch 99/100\n",
            "10/10 [==============================] - 0s 42ms/step - loss: 1.1371 - accuracy: 0.6048 - val_loss: 1.3905 - val_accuracy: 0.5181\n",
            "Epoch 100/100\n",
            "10/10 [==============================] - 0s 42ms/step - loss: 1.1397 - accuracy: 0.6021 - val_loss: 1.3947 - val_accuracy: 0.5158\n"
          ]
        }
      ],
      "source": [
        "# Your implementation for Question 1\n",
        "from tensorflow.keras import Sequential\n",
        "from tensorflow.keras.layers import Input, Dense, Flatten\n",
        "\n",
        "model = Sequential([\n",
        "    Input(shape=(32, 32, 3)),\n",
        "    Flatten(),\n",
        "    Dense(256,activation=\"relu\"),\n",
        "    Dense(128,activation=\"relu\"),\n",
        "    Dense(128,activation=\"relu\"),\n",
        "    Dense(10, activation='softmax')\n",
        "])\n",
        "\n",
        "model.summary()\n",
        "\n",
        "model.compile(optimizer=tf.keras.optimizers.Adam(3e-4), loss='categorical_crossentropy', metrics=['accuracy'])\n",
        "\n",
        "hist1 = model.fit(X_train, Y_train, batch_size=4096, validation_data=(X_valid, Y_valid), epochs=100)"
      ]
    },
    {
      "cell_type": "code",
      "execution_count": null,
      "metadata": {
        "id": "3Amk91Chjzqz",
        "colab": {
          "base_uri": "https://localhost:8080/",
          "height": 279
        },
        "outputId": "6f8ca8c0-b063-4539-85f7-53bdcf3ded11"
      },
      "outputs": [
        {
          "output_type": "display_data",
          "data": {
            "text/plain": [
              "<Figure size 432x288 with 1 Axes>"
            ],
            "image/png": "[encoded data removed]"
          },
          "metadata": {
            "needs_background": "light"
          }
        }
      ],
      "source": [
        "# Plot the training loss and validation loss\n",
        "N = len(hist1.history['loss'])\n",
        "plt.plot(np.arange(N), hist1.history['loss'])\n",
        "plt.plot(np.arange(N), hist1.history['val_loss'])\n",
        "plt.ylabel('loss')\n",
        "plt.xlabel('epoch')\n",
        "plt.legend(['training_loss', 'val_loss'], loc='upper right')\n",
        "plt.show()"
      ]
    },
    {
      "cell_type": "code",
      "execution_count": null,
      "metadata": {
        "colab": {
          "base_uri": "https://localhost:8080/"
        },
        "id": "dRI2MY_qXuxV",
        "outputId": "b6a56dd2-5d26-4e8f-d398-e027976213c6"
      },
      "outputs": [
        {
          "output_type": "stream",
          "name": "stdout",
          "text": [
            "Training accuracy   = 0.6047\n",
            "Validation accuracy = 0.5158\n",
            "Test accuracy       = 0.5155\n"
          ]
        }
      ],
      "source": [
        "res = model.evaluate(X_train, Y_train, verbose=0, batch_size=2048)\n",
        "print(f\"Training accuracy   = {res[1]:.4f}\")\n",
        "res = model.evaluate(X_valid, Y_valid, verbose=0, batch_size=2048)\n",
        "print(f\"Validation accuracy = {res[1]:.4f}\")\n",
        "res = model.evaluate(X_test, Y_test, verbose=0, batch_size=2048)\n",
        "print(f\"Test accuracy       = {res[1]:.4f}\")"
      ]
    },
    {
      "cell_type": "markdown",
      "metadata": {
        "id": "9fEbEqLfADJu"
      },
      "source": [
        "## Question 2\n",
        "\n",
        "Construct a convolutional neural network using your own structure. Try to maximize the prediction accuracy of your model.\n",
        "\n",
        "After the training process, print the training, validation, and test accuracies, as well as plot the training loss and validation loss.\n",
        "\n",
        "### Constraint\n",
        " - The number of epochs must be set to 100."
      ]
    },
    {
      "cell_type": "code",
      "source": [],
      "metadata": {
        "id": "nnCnOHx8gYzB"
      },
      "execution_count": null,
      "outputs": []
    },
    {
      "cell_type": "code",
      "execution_count": null,
      "metadata": {
        "id": "mTrbgdtZknEM"
      },
      "outputs": [],
      "source": [
        "# Your implementation for Question 2\n",
        "# import needed libraries\n",
        "import tensorflow as tf\n",
        "import numpy as np\n",
        "import pandas as pd\n",
        "import torchvision.transforms as transforms\n",
        "import matplotlib.pyplot as plt\n",
        "from tensorflow.keras.callbacks import EarlyStopping\n",
        "%matplotlib inline"
      ]
    },
    {
      "cell_type": "code",
      "source": [
        "# Load CIFAR10 dataset\n",
        "(X_train, y_train), (X_test, y_test) = tf.keras.datasets.cifar10.load_data()\n",
        "X_train = X_train / 255\n",
        "X_test = X_test / 255\n",
        "\n",
        "y_train, y_test = y_train.flatten(), y_test.flatten()"
      ],
      "metadata": {
        "id": "XDIxeBb6ivbl",
        "colab": {
          "base_uri": "https://localhost:8080/"
        },
        "outputId": "a1586d98-a6d4-4911-9a79-b8bb6cda67d0"
      },
      "execution_count": null,
      "outputs": [
        {
          "output_type": "stream",
          "name": "stdout",
          "text": [
            "Downloading data from https://www.cs.toronto.edu/~kriz/cifar-10-python.tar.gz\n",
            "170498071/170498071 [==============================] - 3s 0us/step\n"
          ]
        }
      ]
    },
    {
      "cell_type": "code",
      "source": [
        "#print(X_train[0])"
      ],
      "metadata": {
        "id": "qmzoomCroX__"
      },
      "execution_count": null,
      "outputs": []
    },
    {
      "cell_type": "code",
      "source": [
        "from sklearn.model_selection import train_test_split"
      ],
      "metadata": {
        "id": "ToQ4YMmLjPJ4"
      },
      "execution_count": null,
      "outputs": []
    },
    {
      "cell_type": "code",
      "source": [
        "X_train, X_valid, y_train, y_valid = train_test_split(X_train, y_train,\n",
        "                                                      test_size = 0.1,\n",
        "                                                      shuffle = True,\n",
        "                                                      random_state = 6299)"
      ],
      "metadata": {
        "id": "uHZnWS9Gjsnw"
      },
      "execution_count": null,
      "outputs": []
    },
    {
      "cell_type": "code",
      "source": [
        "print(X_train.shape, y_train.shape)"
      ],
      "metadata": {
        "colab": {
          "base_uri": "https://localhost:8080/"
        },
        "id": "VBa2a2kQi8jH",
        "outputId": "33eecde9-b882-411f-c3ac-e1723176de55"
      },
      "execution_count": null,
      "outputs": [
        {
          "output_type": "stream",
          "name": "stdout",
          "text": [
            "(45000, 32, 32, 3) (45000,)\n"
          ]
        }
      ]
    },
    {
      "cell_type": "code",
      "source": [
        "# check data provied\n",
        "# to display an image before normalization\n",
        "plt.imshow(X_train[0, :, :, :])\n",
        "plt.show()"
      ],
      "metadata": {
        "colab": {
          "base_uri": "https://localhost:8080/",
          "height": 266
        },
        "id": "T_wgccwkgj7X",
        "outputId": "d5d86ba8-e73d-4361-ac87-4e7af0e94c03"
      },
      "execution_count": null,
      "outputs": [
        {
          "output_type": "display_data",
          "data": {
            "text/plain": [
              "<Figure size 432x288 with 1 Axes>"
            ],
            "image/png": "[encoded data removed]"
          },
          "metadata": {
            "needs_background": "light"
          }
        }
      ]
    },
    {
      "cell_type": "code",
      "source": [
        "# Use one-hot encoding for y\n",
        "y_train = tf.one_hot(y_train, 10)\n",
        "y_valid = tf.one_hot(y_valid, 10)\n",
        "y_test = tf.one_hot(y_test, 10)"
      ],
      "metadata": {
        "id": "KbklLVWM4Ylx"
      },
      "execution_count": null,
      "outputs": []
    },
    {
      "cell_type": "code",
      "source": [
        "data_generator = tf.keras.preprocessing.image.ImageDataGenerator(\n",
        "  width_shift_range=0.1, height_shift_range=0.1, horizontal_flip=True)\n",
        " \n",
        "train_generator = data_generator.flow(X_train, y_train, 4096)\n"
      ],
      "metadata": {
        "id": "uwW7AiYBisHF"
      },
      "execution_count": null,
      "outputs": []
    },
    {
      "cell_type": "code",
      "source": [],
      "metadata": {
        "id": "Egwu8AOys3rY"
      },
      "execution_count": null,
      "outputs": []
    },
    {
      "cell_type": "code",
      "source": [
        "input = tf.keras.layers.Input(shape=(32,32,3))"
      ],
      "metadata": {
        "id": "rx-gyrzD0mwk"
      },
      "execution_count": null,
      "outputs": []
    },
    {
      "cell_type": "code",
      "source": [
        "# the first weak learner for feature extractor\n",
        "x1 = tf.keras.layers.Conv2D(32, (3,3),input_shape=(32,32,3), padding='same', activation='relu')(input)\n",
        "x1 = tf.keras.layers.BatchNormalization()(x1)\n",
        "x1 = tf.keras.layers.Conv2D(32, (3,3), padding='same', activation='relu')(x1)\n",
        "x1 = tf.keras.layers.BatchNormalization()(x1)\n",
        "x1 = tf.keras.layers.MaxPooling2D(pool_size=(2,2))(x1)\n",
        "x1 = tf.keras.layers.Dropout(0.3)(x1)\n",
        "\n",
        "x1 = tf.keras.layers.Conv2D(64, (3,3), padding='same', activation='relu')(x1)\n",
        "x1 = tf.keras.layers.BatchNormalization()(x1)\n",
        "x1 = tf.keras.layers.Conv2D(64, (3,3), padding='same', activation='relu')(x1)\n",
        "x1 = tf.keras.layers.BatchNormalization()(x1)\n",
        "x1 = tf.keras.layers.MaxPooling2D(pool_size=(2,2))(x1)\n",
        "x1 = tf.keras.layers.Dropout(0.5)(x1)\n",
        "\n",
        "x1 = tf.keras.layers.Conv2D(128, (3,3), padding='same', activation='relu')(x1)\n",
        "x1 = tf.keras.layers.BatchNormalization()(x1)\n",
        "x1 = tf.keras.layers.Conv2D(128, (3,3), padding='same', activation='relu')(x1)\n",
        "x1 = tf.keras.layers.BatchNormalization()(x1)\n",
        "x1 = tf.keras.layers.MaxPooling2D(pool_size=(2,2))(x1)\n",
        "x1 = tf.keras.layers.Dropout(0.5)(x1)\n",
        "\n",
        "\n",
        "# the second weak learner for feature extractor\n",
        "x2 =  tf.keras.layers.Conv2D(32, (3, 3),input_shape=(32,32,3), activation='relu', padding='same')(input)\n",
        "x2 = tf.keras.layers.BatchNormalization()(x2)\n",
        "x2 = tf.keras.layers.Conv2D(32, (3, 3), activation='relu', padding='same')(x2)\n",
        "x2 = tf.keras.layers.BatchNormalization()(x2)\n",
        "x2 = tf.keras.layers.MaxPooling2D((2, 2))(x2)\n",
        " \n",
        "x2 = tf.keras.layers.Conv2D(64, (3, 3), activation='relu', padding='same')(x2)\n",
        "x2 = tf.keras.layers.BatchNormalization()(x2)\n",
        "x2 = tf.keras.layers.Conv2D(64, (3, 3), activation='relu', padding='same')(x2)\n",
        "x2 = tf.keras.layers.BatchNormalization()(x2)\n",
        "x2 = tf.keras.layers.MaxPooling2D((2, 2))(x2)\n",
        " \n",
        "x2 = tf.keras.layers.Conv2D(128, (3, 3), activation='relu', padding='same')(x2)\n",
        "x2 = tf.keras.layers.BatchNormalization()(x2)\n",
        "x2 = tf.keras.layers.Conv2D(128, (3, 3), activation='relu', padding='same')(x2)\n",
        "x2 = tf.keras.layers.BatchNormalization()(x2)\n",
        "x2 = tf.keras.layers.MaxPooling2D((2, 2))(x2)\n",
        "\n",
        "x = tf.keras.layers.Add()([x1, x2])\n",
        "outputs = tf.keras.layers.GlobalMaxPooling2D()(x)\n",
        "outputs = tf.keras.layers.Dropout(0.1)(outputs)\n",
        "outputs = tf.keras.layers.Dense(128,\n",
        "                                activation='relu',\n",
        "                                kernel_regularizer=tf.keras.regularizers.l2(0.05))(outputs)\n",
        "outputs = tf.keras.layers.Dense(activation='relu', \n",
        "                                units=64,\n",
        "                                kernel_regularizer=tf.keras.regularizers.l2(0.05), \n",
        "                                bias_regularizer=tf.keras.regularizers.L2(0.05))(outputs)\n",
        "outputs = tf.keras.layers.Dense(10, activation='softmax')(outputs)\n",
        "\n",
        "model = tf.keras.Model(input, outputs)"
      ],
      "metadata": {
        "id": "pw6Ay3_TtKOK"
      },
      "execution_count": null,
      "outputs": []
    },
    {
      "cell_type": "code",
      "source": [
        "model.summary()"
      ],
      "metadata": {
        "colab": {
          "base_uri": "https://localhost:8080/"
        },
        "id": "mr_f4qcj1zHe",
        "outputId": "bbea3fa6-90a0-4c4a-8c37-8ec16ccd058d"
      },
      "execution_count": null,
      "outputs": [
        {
          "output_type": "stream",
          "name": "stdout",
          "text": [
            "Model: \"model\"\n",
            "__________________________________________________________________________________________________\n",
            " Layer (type)                   Output Shape         Param #     Connected to                     \n",
            "==================================================================================================\n",
            " input_1 (InputLayer)           [(None, 32, 32, 3)]  0           []                               \n",
            "                                                                                                  \n",
            " conv2d (Conv2D)                (None, 32, 32, 32)   896         ['input_1[0][0]']                \n",
            "                                                                                                  \n",
            " batch_normalization (BatchNorm  (None, 32, 32, 32)  128         ['conv2d[0][0]']                 \n",
            " alization)                                                                                       \n",
            "                                                                                                  \n",
            " conv2d_1 (Conv2D)              (None, 32, 32, 32)   9248        ['batch_normalization[0][0]']    \n",
            "                                                                                                  \n",
            " batch_normalization_1 (BatchNo  (None, 32, 32, 32)  128         ['conv2d_1[0][0]']               \n",
            " rmalization)                                                                                     \n",
            "                                                                                                  \n",
            " conv2d_6 (Conv2D)              (None, 32, 32, 32)   896         ['input_1[0][0]']                \n",
            "                                                                                                  \n",
            " max_pooling2d (MaxPooling2D)   (None, 16, 16, 32)   0           ['batch_normalization_1[0][0]']  \n",
            "                                                                                                  \n",
            " batch_normalization_6 (BatchNo  (None, 32, 32, 32)  128         ['conv2d_6[0][0]']               \n",
            " rmalization)                                                                                     \n",
            "                                                                                                  \n",
            " dropout (Dropout)              (None, 16, 16, 32)   0           ['max_pooling2d[0][0]']          \n",
            "                                                                                                  \n",
            " conv2d_7 (Conv2D)              (None, 32, 32, 32)   9248        ['batch_normalization_6[0][0]']  \n",
            "                                                                                                  \n",
            " conv2d_2 (Conv2D)              (None, 16, 16, 64)   18496       ['dropout[0][0]']                \n",
            "                                                                                                  \n",
            " batch_normalization_7 (BatchNo  (None, 32, 32, 32)  128         ['conv2d_7[0][0]']               \n",
            " rmalization)                                                                                     \n",
            "                                                                                                  \n",
            " batch_normalization_2 (BatchNo  (None, 16, 16, 64)  256         ['conv2d_2[0][0]']               \n",
            " rmalization)                                                                                     \n",
            "                                                                                                  \n",
            " max_pooling2d_3 (MaxPooling2D)  (None, 16, 16, 32)  0           ['batch_normalization_7[0][0]']  \n",
            "                                                                                                  \n",
            " conv2d_3 (Conv2D)              (None, 16, 16, 64)   36928       ['batch_normalization_2[0][0]']  \n",
            "                                                                                                  \n",
            " conv2d_8 (Conv2D)              (None, 16, 16, 64)   18496       ['max_pooling2d_3[0][0]']        \n",
            "                                                                                                  \n",
            " batch_normalization_3 (BatchNo  (None, 16, 16, 64)  256         ['conv2d_3[0][0]']               \n",
            " rmalization)                                                                                     \n",
            "                                                                                                  \n",
            " batch_normalization_8 (BatchNo  (None, 16, 16, 64)  256         ['conv2d_8[0][0]']               \n",
            " rmalization)                                                                                     \n",
            "                                                                                                  \n",
            " max_pooling2d_1 (MaxPooling2D)  (None, 8, 8, 64)    0           ['batch_normalization_3[0][0]']  \n",
            "                                                                                                  \n",
            " conv2d_9 (Conv2D)              (None, 16, 16, 64)   36928       ['batch_normalization_8[0][0]']  \n",
            "                                                                                                  \n",
            " dropout_1 (Dropout)            (None, 8, 8, 64)     0           ['max_pooling2d_1[0][0]']        \n",
            "                                                                                                  \n",
            " batch_normalization_9 (BatchNo  (None, 16, 16, 64)  256         ['conv2d_9[0][0]']               \n",
            " rmalization)                                                                                     \n",
            "                                                                                                  \n",
            " conv2d_4 (Conv2D)              (None, 8, 8, 128)    73856       ['dropout_1[0][0]']              \n",
            "                                                                                                  \n",
            " max_pooling2d_4 (MaxPooling2D)  (None, 8, 8, 64)    0           ['batch_normalization_9[0][0]']  \n",
            "                                                                                                  \n",
            " batch_normalization_4 (BatchNo  (None, 8, 8, 128)   512         ['conv2d_4[0][0]']               \n",
            " rmalization)                                                                                     \n",
            "                                                                                                  \n",
            " conv2d_10 (Conv2D)             (None, 8, 8, 128)    73856       ['max_pooling2d_4[0][0]']        \n",
            "                                                                                                  \n",
            " conv2d_5 (Conv2D)              (None, 8, 8, 128)    147584      ['batch_normalization_4[0][0]']  \n",
            "                                                                                                  \n",
            " batch_normalization_10 (BatchN  (None, 8, 8, 128)   512         ['conv2d_10[0][0]']              \n",
            " ormalization)                                                                                    \n",
            "                                                                                                  \n",
            " batch_normalization_5 (BatchNo  (None, 8, 8, 128)   512         ['conv2d_5[0][0]']               \n",
            " rmalization)                                                                                     \n",
            "                                                                                                  \n",
            " conv2d_11 (Conv2D)             (None, 8, 8, 128)    147584      ['batch_normalization_10[0][0]'] \n",
            "                                                                                                  \n",
            " max_pooling2d_2 (MaxPooling2D)  (None, 4, 4, 128)   0           ['batch_normalization_5[0][0]']  \n",
            "                                                                                                  \n",
            " batch_normalization_11 (BatchN  (None, 8, 8, 128)   512         ['conv2d_11[0][0]']              \n",
            " ormalization)                                                                                    \n",
            "                                                                                                  \n",
            " dropout_2 (Dropout)            (None, 4, 4, 128)    0           ['max_pooling2d_2[0][0]']        \n",
            "                                                                                                  \n",
            " max_pooling2d_5 (MaxPooling2D)  (None, 4, 4, 128)   0           ['batch_normalization_11[0][0]'] \n",
            "                                                                                                  \n",
            " add (Add)                      (None, 4, 4, 128)    0           ['dropout_2[0][0]',              \n",
            "                                                                  'max_pooling2d_5[0][0]']        \n",
            "                                                                                                  \n",
            " global_max_pooling2d (GlobalMa  (None, 128)         0           ['add[0][0]']                    \n",
            " xPooling2D)                                                                                      \n",
            "                                                                                                  \n",
            " dropout_3 (Dropout)            (None, 128)          0           ['global_max_pooling2d[0][0]']   \n",
            "                                                                                                  \n",
            " dense (Dense)                  (None, 128)          16512       ['dropout_3[0][0]']              \n",
            "                                                                                                  \n",
            " dense_1 (Dense)                (None, 64)           8256        ['dense[0][0]']                  \n",
            "                                                                                                  \n",
            " dense_2 (Dense)                (None, 10)           650         ['dense_1[0][0]']                \n",
            "                                                                                                  \n",
            "==================================================================================================\n",
            "Total params: 603,018\n",
            "Trainable params: 601,226\n",
            "Non-trainable params: 1,792\n",
            "__________________________________________________________________________________________________\n"
          ]
        }
      ]
    },
    {
      "cell_type": "code",
      "source": [
        "model.compile(optimizer=tf.keras.optimizers.Adam(25e-3), loss='categorical_crossentropy', metrics=['accuracy'])"
      ],
      "metadata": {
        "id": "PRcgMvi7182C"
      },
      "execution_count": null,
      "outputs": []
    },
    {
      "cell_type": "code",
      "source": [
        "hist2 = model.fit(train_generator, \n",
        "                  batch_size=4096, \n",
        "                  validation_data=(X_valid, y_valid), \n",
        "                  epochs=100,\n",
        "                  callbacks=[EarlyStopping(monitor='val_loss', min_delta=0.001, patience=5, verbose=1)],\n",
        "                  shuffle=True)"
      ],
      "metadata": {
        "colab": {
          "base_uri": "https://localhost:8080/"
        },
        "id": "yY1GIQ002cKO",
        "outputId": "d7e1a19c-80b3-4566-905a-e66ae08d0d14"
      },
      "execution_count": null,
      "outputs": [
        {
          "output_type": "stream",
          "name": "stdout",
          "text": [
            "Epoch 1/100\n",
            "11/11 [==============================] - 23s 2s/step - loss: 4.8001 - accuracy: 0.5895 - val_loss: 7.5464 - val_accuracy: 0.3680\n",
            "Epoch 2/100\n",
            "11/11 [==============================] - 21s 2s/step - loss: 4.1673 - accuracy: 0.7435 - val_loss: 7.0764 - val_accuracy: 0.5028\n",
            "Epoch 3/100\n",
            "11/11 [==============================] - 21s 2s/step - loss: 2.8944 - accuracy: 0.8078 - val_loss: 4.0214 - val_accuracy: 0.6498\n",
            "Epoch 4/100\n",
            "11/11 [==============================] - 20s 2s/step - loss: 1.8261 - accuracy: 0.8427 - val_loss: 2.4743 - val_accuracy: 0.7234\n",
            "Epoch 5/100\n",
            "11/11 [==============================] - 21s 2s/step - loss: 1.2063 - accuracy: 0.8645 - val_loss: 1.7176 - val_accuracy: 0.7440\n",
            "Epoch 6/100\n",
            "11/11 [==============================] - 20s 2s/step - loss: 0.8650 - accuracy: 0.8804 - val_loss: 1.0645 - val_accuracy: 0.8130\n",
            "Epoch 7/100\n",
            "11/11 [==============================] - 21s 2s/step - loss: 0.6567 - accuracy: 0.8939 - val_loss: 0.8563 - val_accuracy: 0.8258\n",
            "Epoch 8/100\n",
            "11/11 [==============================] - 20s 2s/step - loss: 0.5326 - accuracy: 0.9034 - val_loss: 0.8227 - val_accuracy: 0.8178\n",
            "Epoch 9/100\n",
            "11/11 [==============================] - 20s 2s/step - loss: 0.4546 - accuracy: 0.9105 - val_loss: 0.6992 - val_accuracy: 0.8272\n",
            "Epoch 10/100\n",
            "11/11 [==============================] - 20s 2s/step - loss: 0.4052 - accuracy: 0.9148 - val_loss: 0.6524 - val_accuracy: 0.8428\n",
            "Epoch 11/100\n",
            "11/11 [==============================] - 21s 2s/step - loss: 0.3628 - accuracy: 0.9220 - val_loss: 0.6287 - val_accuracy: 0.8396\n",
            "Epoch 12/100\n",
            "11/11 [==============================] - 20s 2s/step - loss: 0.3382 - accuracy: 0.9232 - val_loss: 0.6097 - val_accuracy: 0.8408\n",
            "Epoch 13/100\n",
            "11/11 [==============================] - 20s 2s/step - loss: 0.3284 - accuracy: 0.9235 - val_loss: 0.6274 - val_accuracy: 0.8346\n",
            "Epoch 14/100\n",
            "11/11 [==============================] - 20s 2s/step - loss: 0.3099 - accuracy: 0.9274 - val_loss: 0.5872 - val_accuracy: 0.8420\n",
            "Epoch 15/100\n",
            "11/11 [==============================] - 20s 2s/step - loss: 0.2952 - accuracy: 0.9305 - val_loss: 0.5977 - val_accuracy: 0.8392\n",
            "Epoch 16/100\n",
            "11/11 [==============================] - 20s 2s/step - loss: 0.2817 - accuracy: 0.9312 - val_loss: 0.5760 - val_accuracy: 0.8426\n",
            "Epoch 17/100\n",
            "11/11 [==============================] - 20s 2s/step - loss: 0.2727 - accuracy: 0.9326 - val_loss: 0.6417 - val_accuracy: 0.8278\n",
            "Epoch 18/100\n",
            "11/11 [==============================] - 21s 2s/step - loss: 0.2592 - accuracy: 0.9368 - val_loss: 0.6384 - val_accuracy: 0.8312\n",
            "Epoch 19/100\n",
            "11/11 [==============================] - 21s 2s/step - loss: 0.2517 - accuracy: 0.9381 - val_loss: 0.6008 - val_accuracy: 0.8430\n",
            "Epoch 20/100\n",
            "11/11 [==============================] - 21s 2s/step - loss: 0.2519 - accuracy: 0.9392 - val_loss: 0.5595 - val_accuracy: 0.8448\n",
            "Epoch 21/100\n",
            "11/11 [==============================] - 21s 2s/step - loss: 0.2475 - accuracy: 0.9377 - val_loss: 0.5516 - val_accuracy: 0.8470\n",
            "Epoch 22/100\n",
            "11/11 [==============================] - 20s 2s/step - loss: 0.2550 - accuracy: 0.9357 - val_loss: 0.5815 - val_accuracy: 0.8490\n",
            "Epoch 23/100\n",
            "11/11 [==============================] - 20s 2s/step - loss: 0.2479 - accuracy: 0.9368 - val_loss: 0.5528 - val_accuracy: 0.8482\n",
            "Epoch 24/100\n",
            "11/11 [==============================] - 20s 2s/step - loss: 0.2522 - accuracy: 0.9332 - val_loss: 0.5538 - val_accuracy: 0.8514\n",
            "Epoch 25/100\n",
            "11/11 [==============================] - 20s 2s/step - loss: 0.2403 - accuracy: 0.9397 - val_loss: 0.5201 - val_accuracy: 0.8672\n",
            "Epoch 26/100\n",
            "11/11 [==============================] - 20s 2s/step - loss: 0.2346 - accuracy: 0.9413 - val_loss: 0.5904 - val_accuracy: 0.8406\n",
            "Epoch 27/100\n",
            "11/11 [==============================] - 20s 2s/step - loss: 0.2344 - accuracy: 0.9398 - val_loss: 0.6014 - val_accuracy: 0.8422\n",
            "Epoch 28/100\n",
            "11/11 [==============================] - 20s 2s/step - loss: 0.2284 - accuracy: 0.9408 - val_loss: 0.6479 - val_accuracy: 0.8244\n",
            "Epoch 29/100\n",
            "11/11 [==============================] - 20s 2s/step - loss: 0.2303 - accuracy: 0.9422 - val_loss: 0.6225 - val_accuracy: 0.8380\n",
            "Epoch 30/100\n",
            "11/11 [==============================] - 20s 2s/step - loss: 0.2316 - accuracy: 0.9409 - val_loss: 0.6183 - val_accuracy: 0.8390\n",
            "Epoch 30: early stopping\n"
          ]
        }
      ]
    },
    {
      "cell_type": "code",
      "execution_count": null,
      "metadata": {
        "id": "nN2z77iAkpft",
        "colab": {
          "base_uri": "https://localhost:8080/",
          "height": 279
        },
        "outputId": "080aa9c3-9139-474a-e2ab-1b7c49291ded"
      },
      "outputs": [
        {
          "output_type": "display_data",
          "data": {
            "text/plain": [
              "<Figure size 432x288 with 1 Axes>"
            ],
            "image/png": "[encoded data removed]"
          },
          "metadata": {
            "needs_background": "light"
          }
        }
      ],
      "source": [
        "# Plot the training loss and validation loss\n",
        "N = len(hist2.history['loss'])\n",
        "plt.plot(np.arange(N), hist2.history['loss'])\n",
        "plt.plot(np.arange(N), hist2.history['val_loss'])\n",
        "plt.ylabel('loss')\n",
        "plt.xlabel('epoch')\n",
        "plt.legend(['training_loss', 'val_loss'], loc='upper right')\n",
        "plt.show()"
      ]
    },
    {
      "cell_type": "code",
      "source": [
        "res = model.evaluate(X_train, y_train, verbose=0, batch_size=2048)\n",
        "print(f\"Training accuracy   = {res[1]:.4f}\")\n",
        "res = model.evaluate(X_valid, y_valid, verbose=0, batch_size=2048)\n",
        "print(f\"Validation accuracy = {res[1]:.4f}\")\n",
        "res = model.evaluate(X_test, y_test, verbose=0, batch_size=2048)\n",
        "print(f\"Test accuracy       = {res[1]:.4f}\")"
      ],
      "metadata": {
        "colab": {
          "base_uri": "https://localhost:8080/"
        },
        "id": "vH8CjDQsKWch",
        "outputId": "4a09b5bf-2d0a-42ae-b0c5-c1e2d35f34d9"
      },
      "execution_count": null,
      "outputs": [
        {
          "output_type": "stream",
          "name": "stdout",
          "text": [
            "Training accuracy   = 0.9108\n",
            "Validation accuracy = 0.8390\n",
            "Test accuracy       = 0.8339\n"
          ]
        }
      ]
    },
    {
      "cell_type": "code",
      "source": [
        "!git init"
      ],
      "metadata": {
        "id": "-0ye-GIXKe1y",
        "colab": {
          "base_uri": "https://localhost:8080/"
        },
        "outputId": "4ba4bdea-9e47-45e1-f0dc-707a5db4a81c"
      },
      "execution_count": 3,
      "outputs": [
        {
          "output_type": "stream",
          "name": "stdout",
          "text": [
            "Initialized empty Git repository in /content/.git/\n"
          ]
        }
      ]
    },
    {
      "cell_type": "code",
      "source": [
        "!git config — global user.email “6322773118@g.siit.tu.ac.th”\n",
        "!git config — global user.name “pavaris-ruangchutiphophan”"
      ],
      "metadata": {
        "colab": {
          "base_uri": "https://localhost:8080/"
        },
        "id": "VHMlLNo_7JUV",
        "outputId": "23d83d96-0f44-4dbc-d1fa-3b4fcbbb0973"
      },
      "execution_count": 4,
      "outputs": [
        {
          "output_type": "stream",
          "name": "stdout",
          "text": [
            "usage: git config [<options>]\n",
            "\n",
            "Config file location\n",
            "    --global              use global config file\n",
            "    --system              use system config file\n",
            "    --local               use repository config file\n",
            "    -f, --file <file>     use given config file\n",
            "    --blob <blob-id>      read config from given blob object\n",
            "\n",
            "Action\n",
            "    --get                 get value: name [value-regex]\n",
            "    --get-all             get all values: key [value-regex]\n",
            "    --get-regexp          get values for regexp: name-regex [value-regex]\n",
            "    --get-urlmatch        get value specific for the URL: section[.var] URL\n",
            "    --replace-all         replace all matching variables: name value [value_regex]\n",
            "    --add                 add a new variable: name value\n",
            "    --unset               remove a variable: name [value-regex]\n",
            "    --unset-all           remove all matches: name [value-regex]\n",
            "    --rename-section      rename section: old-name new-name\n",
            "    --remove-section      remove a section: name\n",
            "    -l, --list            list all\n",
            "    -e, --edit            open an editor\n",
            "    --get-color           find the color configured: slot [default]\n",
            "    --get-colorbool       find the color setting: slot [stdout-is-tty]\n",
            "\n",
            "Type\n",
            "    --bool                value is \"true\" or \"false\"\n",
            "    --int                 value is decimal number\n",
            "    --bool-or-int         value is --bool or --int\n",
            "    --path                value is a path (file or directory name)\n",
            "    --expiry-date         value is an expiry date\n",
            "\n",
            "Other\n",
            "    -z, --null            terminate values with NUL byte\n",
            "    --name-only           show variable names only\n",
            "    --includes            respect include directives on lookup\n",
            "    --show-origin         show origin of config (file, standard input, blob, command line)\n",
            "\n",
            "usage: git config [<options>]\n",
            "\n",
            "Config file location\n",
            "    --global              use global config file\n",
            "    --system              use system config file\n",
            "    --local               use repository config file\n",
            "    -f, --file <file>     use given config file\n",
            "    --blob <blob-id>      read config from given blob object\n",
            "\n",
            "Action\n",
            "    --get                 get value: name [value-regex]\n",
            "    --get-all             get all values: key [value-regex]\n",
            "    --get-regexp          get values for regexp: name-regex [value-regex]\n",
            "    --get-urlmatch        get value specific for the URL: section[.var] URL\n",
            "    --replace-all         replace all matching variables: name value [value_regex]\n",
            "    --add                 add a new variable: name value\n",
            "    --unset               remove a variable: name [value-regex]\n",
            "    --unset-all           remove all matches: name [value-regex]\n",
            "    --rename-section      rename section: old-name new-name\n",
            "    --remove-section      remove a section: name\n",
            "    -l, --list            list all\n",
            "    -e, --edit            open an editor\n",
            "    --get-color           find the color configured: slot [default]\n",
            "    --get-colorbool       find the color setting: slot [stdout-is-tty]\n",
            "\n",
            "Type\n",
            "    --bool                value is \"true\" or \"false\"\n",
            "    --int                 value is decimal number\n",
            "    --bool-or-int         value is --bool or --int\n",
            "    --path                value is a path (file or directory name)\n",
            "    --expiry-date         value is an expiry date\n",
            "\n",
            "Other\n",
            "    -z, --null            terminate values with NUL byte\n",
            "    --name-only           show variable names only\n",
            "    --includes            respect include directives on lookup\n",
            "    --show-origin         show origin of config (file, standard input, blob, command line)\n",
            "\n"
          ]
        }
      ]
    }
  ],
  "metadata": {
    "colab": {
      "provenance": [],
      "collapsed_sections": []
    },
    "kernelspec": {
      "display_name": "Python 3 (ipykernel)",
      "language": "python",
      "name": "python3"
    },
    "language_info": {
      "codemirror_mode": {
        "name": "ipython",
        "version": 3
      },
      "file_extension": ".py",
      "mimetype": "text/x-python",
      "name": "python",
      "nbconvert_exporter": "python",
      "pygments_lexer": "ipython3",
      "version": "3.10.6"
    },
    "gpuClass": "standard",
    "accelerator": "GPU"
  },
  "nbformat": 4,
  "nbformat_minor": 0
}